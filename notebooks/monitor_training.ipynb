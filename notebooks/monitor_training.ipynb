{
 "cells": [
  {
   "cell_type": "code",
   "execution_count": 1,
   "id": "d74db9b5-5f97-4a97-9530-d89dc89b454f",
   "metadata": {},
   "outputs": [],
   "source": [
    "import os\n",
    "os.chdir(\"C:/Users/ibo.kylegregory/bisaya-stt-module\")\n"
   ]
  },
  {
   "cell_type": "code",
   "execution_count": 2,
   "id": "fd005833-02b8-4fda-bcbc-748cdf77824c",
   "metadata": {},
   "outputs": [],
   "source": [
    "import os\n",
    "import pandas as pd\n",
    "from IPython.display import display, Markdown\n",
    "import matplotlib.pyplot as plt\n",
    "\n",
    "# Path to metrics and logs\n",
    "metrics_file = \"docs/validation_metrics.md\"\n",
    "loss_log = \"logs/loss_history.csv\"\n"
   ]
  },
  {
   "cell_type": "code",
   "execution_count": 3,
   "id": "a156ca77-4c11-4dc8-af00-9c7196f7dacd",
   "metadata": {},
   "outputs": [
    {
     "data": {
      "text/markdown": [
       "### 🧾 Latest WER Metrics"
      ],
      "text/plain": [
       "<IPython.core.display.Markdown object>"
      ]
     },
     "metadata": {},
     "output_type": "display_data"
    },
    {
     "data": {
      "text/markdown": [
       "```\n",
       "2025-07-19T14:28:57.764888 - WER: 1.0000\n",
       "2025-07-19T14:51:05.242947 - WER: 1.0000\n",
       "2025-07-19T15:13:15.705496 - WER: 1.0000\n",
       "2025-07-19T15:50:14.442783 - WER: 1.0000\n",
       "2025-07-19T16:12:33.337858 - WER: 1.0000\n",
       "\n",
       "```"
      ],
      "text/plain": [
       "<IPython.core.display.Markdown object>"
      ]
     },
     "metadata": {},
     "output_type": "display_data"
    }
   ],
   "source": [
    "def show_latest_wer():\n",
    "    if not os.path.exists(metrics_file):\n",
    "        display(Markdown(\"⚠️ `validation_metrics.md` not found yet.\"))\n",
    "        return\n",
    "    with open(metrics_file, \"r\", encoding=\"utf-8\") as f:\n",
    "        lines = f.readlines()\n",
    "        if not lines:\n",
    "            display(Markdown(\"🟡 No WER data yet.\"))\n",
    "            return\n",
    "        display(Markdown(\"### 🧾 Latest WER Metrics\"))\n",
    "        display(Markdown(\"```\\n\" + \"\".join(lines[-5:]) + \"\\n```\"))\n",
    "\n",
    "show_latest_wer()\n"
   ]
  },
  {
   "cell_type": "code",
   "execution_count": 4,
   "id": "5873ed12-abcb-4327-938f-0e118edcef36",
   "metadata": {},
   "outputs": [
    {
     "data": {
      "image/png": "[encoded data removed]",
      "text/plain": [
       "<Figure size 1000x400 with 1 Axes>"
      ]
     },
     "metadata": {},
     "output_type": "display_data"
    }
   ],
   "source": [
    "def plot_loss():\n",
    "    if not os.path.exists(loss_log):\n",
    "        display(Markdown(\"⚠️ `loss_history.csv` not found yet.\"))\n",
    "        return\n",
    "    df = pd.read_csv(loss_log)\n",
    "    if df.empty:\n",
    "        display(Markdown(\"🟡 No loss data yet.\"))\n",
    "        return\n",
    "    plt.figure(figsize=(10, 4))\n",
    "    plt.plot(df[\"step\"], df[\"loss\"])\n",
    "    plt.title(\"Training Loss Over Steps\")\n",
    "    plt.xlabel(\"Steps\")\n",
    "    plt.ylabel(\"Loss\")\n",
    "    plt.grid(True)\n",
    "    plt.show()\n",
    "\n",
    "plot_loss()\n"
   ]
  },
  {
   "cell_type": "code",
   "execution_count": 5,
   "id": "65c21da5-71a1-4cc2-a3b4-f5a87153133d",
   "metadata": {},
   "outputs": [],
   "source": [
    "TRAIN_SIZE = 3080  # adjust based on your dataset['train'] count\n",
    "BATCH_SIZE = 1\n",
    "GRAD_ACCUM = 4\n",
    "\n",
    "STEPS_PER_EPOCH = (TRAIN_SIZE + (BATCH_SIZE * GRAD_ACCUM) - 1) // (BATCH_SIZE * GRAD_ACCUM)\n"
   ]
  },
  {
   "cell_type": "code",
   "execution_count": 6,
   "id": "04ec90bc-e836-4955-97fd-32841d5cc09d",
   "metadata": {},
   "outputs": [],
   "source": [
    "import os\n",
    "import re\n",
    "import time\n",
    "from IPython.display import clear_output, display\n",
    "\n",
    "CHECKPOINT_DIR = \"models/wav2vec2/v1_bisaya\"\n",
    "POLL_INTERVAL = 60  # in seconds\n",
    "\n",
    "def get_latest_checkpoint(path=CHECKPOINT_DIR):\n",
    "    if not os.path.exists(path):\n",
    "        return None\n",
    "\n",
    "    checkpoint_steps = []\n",
    "    for d in os.listdir(path):\n",
    "        match = re.match(r\"checkpoint-(\\d+)\", d)\n",
    "        if match:\n",
    "            checkpoint_steps.append(int(match.group(1)))\n",
    "    return max(checkpoint_steps) if checkpoint_steps else None\n"
   ]
  },
  {
   "cell_type": "code",
   "execution_count": 7,
   "id": "626a21d4-2780-4e71-b0c4-2ea0c6e3c51b",
   "metadata": {},
   "outputs": [],
   "source": [
    "def monitor_training_progress(interval=POLL_INTERVAL, patience_minutes=10):\n",
    "    print(\"📡 Monitoring training progress...\")\n",
    "    history = []\n",
    "    last_step = None\n",
    "    stagnant_counter = 0\n",
    "    max_stagnant_checks = patience_minutes * 60 // interval\n",
    "\n",
    "    while True:\n",
    "        clear_output(wait=True)\n",
    "        current_step = get_latest_checkpoint()\n",
    "\n",
    "        if current_step is None:\n",
    "            print(\"❌ No checkpoints found.\")\n",
    "        else:\n",
    "            timestamp = time.strftime('%Y-%m-%d %H:%M:%S')\n",
    "            estimated_epoch = current_step / STEPS_PER_EPOCH\n",
    "            print(f\"[{timestamp}] ✅ Checkpoint step: {current_step}\")\n",
    "            print(f\"📊 Estimated epoch: {estimated_epoch:.2f}\")\n",
    "            history.append((timestamp, current_step, estimated_epoch))\n",
    "\n",
    "            if last_step == current_step:\n",
    "                stagnant_counter += 1\n",
    "                print(f\"⚠️ No new checkpoints. Stagnant for {stagnant_counter * interval} seconds.\")\n",
    "                if stagnant_counter >= max_stagnant_checks:\n",
    "                    print(\"🚨 Training may have stopped. No progress detected.\")\n",
    "                    break\n",
    "            else:\n",
    "                stagnant_counter = 0\n",
    "\n",
    "            last_step = current_step\n",
    "\n",
    "        time.sleep(interval)\n"
   ]
  },
  {
   "cell_type": "code",
   "execution_count": null,
   "id": "83b6d2a3-949b-47ab-8c01-1815bcd33bd8",
   "metadata": {},
   "outputs": [
    {
     "name": "stdout",
     "output_type": "stream",
     "text": [
      "[2025-07-19 17:30:09] ✅ Checkpoint step: 3000\n",
      "📊 Estimated epoch: 3.90\n",
      "⚠️ No new checkpoints. Stagnant for 300 seconds.\n"
     ]
    }
   ],
   "source": [
    "monitor_training_progress(interval=300, patience_minutes=10)\n"
   ]
  },
  {
   "cell_type": "code",
   "execution_count": null,
   "id": "676ff184-92e2-4cc0-b534-c677f74674f1",
   "metadata": {
    "scrolled": true
   },
   "outputs": [],
   "source": [
    "from transformers import Wav2Vec2Processor\n",
    "from datasets import load_from_disk\n",
    "import torch\n",
    "\n",
    "# Constants\n",
    "DATASET_VERSION = \"v1_training_ready_grapheme\"\n",
    "PROCESSOR_VERSION = \"v1_grapheme\"\n",
    "MAX_INPUT_LENGTH_SEC = 15\n",
    "\n",
    "# === Load your processor ===\n",
    "processor = Wav2Vec2Processor.from_pretrained(\n",
    "    r\"C:\\Users\\ibo.kylegregory\\bisaya-stt-module\\processor\\v1_grapheme\",\n",
    "    local_files_only=True\n",
    ")\n",
    "\n",
    "# === Load dataset ===\n",
    "raw_dataset = load_from_disk(r\"C:\\Users\\ibo.kylegregory\\bisaya-stt-module\\data\\processed\\v1_training_ready_grapheme\")\n",
    "max_len = int(processor.feature_extractor.sampling_rate * MAX_INPUT_LENGTH_SEC)\n",
    "filtered_dataset = raw_dataset.filter(lambda x: len(x[\"input_values\"]) <= max_len)\n",
    "dataset = filtered_dataset[\"train\"].train_test_split(test_size=0.1)\n",
    "\n",
    "# === Sample: Inspect a label sequence ===\n",
    "sample = dataset[\"test\"][0]  # or adjust index\n",
    "label_ids = sample[\"labels\"]\n",
    "\n",
    "# === Convert label IDs to tokens ===\n",
    "tokens = processor.tokenizer.convert_ids_to_tokens(label_ids)\n",
    "decoded_text = processor.tokenizer.decode(label_ids, skip_special_tokens=True)\n",
    "\n",
    "print(\"🔢 Label IDs:\", label_ids)\n",
    "print(\"🔡 Tokens:\", tokens)\n",
    "print(\"📝 Decoded Text:\", decoded_text)\n"
   ]
  },
  {
   "cell_type": "code",
   "execution_count": null,
   "id": "1eccb1e2-0425-43be-b659-4dfcccc345a7",
   "metadata": {},
   "outputs": [],
   "source": [
    "from transformers import Wav2Vec2ForCTC, Wav2Vec2Processor\n",
    "from datasets import load_from_disk\n",
    "import torch\n",
    "import os\n",
    "\n",
    "# === Constants ===\n",
    "MODEL_PATH = \"models/wav2vec2/v1_bisaya\"\n",
    "PROCESSOR_PATH = \"processor/v1_grapheme\"\n",
    "DATASET_PATH = \"data/processed/v1_training_ready_grapheme\"\n",
    "MAX_INPUT_LENGTH_SEC = 15\n",
    "\n",
    "# === Load model and processor ===\n",
    "processor = Wav2Vec2Processor.from_pretrained(PROCESSOR_PATH, local_files_only=True)\n",
    "model = Wav2Vec2ForCTC.from_pretrained(MODEL_PATH, local_files_only=True)\n",
    "model.eval()\n",
    "\n",
    "# === Load dataset and sample ===\n",
    "raw_dataset = load_from_disk(DATASET_PATH)\n",
    "max_len = int(processor.feature_extractor.sampling_rate * MAX_INPUT_LENGTH_SEC)\n",
    "filtered_dataset = raw_dataset.filter(lambda x: len(x[\"input_values\"]) <= max_len)\n",
    "dataset = filtered_dataset[\"train\"].train_test_split(test_size=0.1)\n",
    "\n",
    "sample = dataset[\"test\"][0]\n",
    "input_values = torch.tensor([sample[\"input_values\"]])\n",
    "attention_mask = torch.ones_like(input_values)\n",
    "\n",
    "# === Predict ===\n",
    "with torch.no_grad():\n",
    "    logits = model(input_values).logits\n",
    "\n",
    "pred_ids = torch.argmax(logits, dim=-1)[0]\n",
    "pred_tokens = processor.tokenizer.convert_ids_to_tokens(pred_ids)\n",
    "pred_text = processor.batch_decode(pred_ids.unsqueeze(0))[0]\n",
    "\n",
    "# === Decode reference ===\n",
    "ref_text = processor.tokenizer.decode(sample[\"labels\"], skip_special_tokens=True)\n",
    "\n",
    "# === Output ===\n",
    "print(\"📌 Reference Text:\", ref_text)\n",
    "print(\"🎯 Predicted IDs:\", pred_ids.tolist())\n",
    "print(\"🔡 Predicted Tokens:\", pred_tokens)\n",
    "print(\"🧠 Predicted Text:\", pred_text)\n"
   ]
  },
  {
   "cell_type": "code",
   "execution_count": null,
   "id": "244713ae-19af-41ac-a153-298de0490c05",
   "metadata": {
    "scrolled": true
   },
   "outputs": [],
   "source": [
    "from transformers import Wav2Vec2Processor\n",
    "\n",
    "# Adjust path as needed\n",
    "processor_path = \"./processor/v1_grapheme\"\n",
    "processor = Wav2Vec2Processor.from_pretrained(processor_path)\n",
    "\n",
    "print(\"✅ Processor loaded from:\", processor_path)\n",
    "print(\"🔠 Vocab size:\", len(processor.tokenizer))\n"
   ]
  },
  {
   "cell_type": "code",
   "execution_count": null,
   "id": "d8e455b6-08de-4b2f-bbfb-af4fe558b552",
   "metadata": {},
   "outputs": [],
   "source": [
    "# Simulate a Trainer prediction step\n",
    "from torch.nn.functional import softmax\n",
    "\n",
    "logits = torch.tensor(pred.predictions)\n",
    "pred_ids = torch.argmax(logits, dim=-1)[0]\n",
    "\n",
    "print(\"🧠 Raw Predicted IDs:\", pred_ids.tolist())\n",
    "print(\"🔡 Tokens:\", processor.tokenizer.convert_ids_to_tokens(pred_ids))\n",
    "print(\"📝 Decoded:\", processor.batch_decode([pred_ids])[0])\n"
   ]
  },
  {
   "cell_type": "code",
   "execution_count": null,
   "id": "6856a4a1-f263-4959-974e-1f352cb08adf",
   "metadata": {},
   "outputs": [],
   "source": []
  }
 ],
 "metadata": {
  "kernelspec": {
   "display_name": "Python 3 (ipykernel)",
   "language": "python",
   "name": "python3"
  },
  "language_info": {
   "codemirror_mode": {
    "name": "ipython",
    "version": 3
   },
   "file_extension": ".py",
   "mimetype": "text/x-python",
   "name": "python",
   "nbconvert_exporter": "python",
   "pygments_lexer": "ipython3",
   "version": "3.13.2"
  }
 },
 "nbformat": 4,
 "nbformat_minor": 5
}
