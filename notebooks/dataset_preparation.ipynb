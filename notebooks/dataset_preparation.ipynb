{
 "cells": [
  {
   "cell_type": "code",
   "execution_count": null,
   "id": "dc276bca-7321-4b2e-82a8-7d91927f7d88",
   "metadata": {},
   "outputs": [
    {
     "ename": "",
     "evalue": "",
     "output_type": "error",
     "traceback": [
      "\u001b[1;31mRunning cells with 'bisaya-stt-env (Python 3.13.2)' requires the ipykernel package.\n",
      "\u001b[1;31mInstall 'ipykernel' into the Python environment. \n",
      "\u001b[1;31mCommand: 'c:/Users/ibo.kylegregory/bisaya-stt-module/bisaya-stt-env/Scripts/python.exe -m pip install ipykernel -U --force-reinstall'"
     ]
    }
   ],
   "source": [
    "import pandas as pd\n",
    "import matplotlib.pyplot as plt\n",
    "\n",
    "# Dataset path\n",
    "CSV_PATH = \"../bisaya-dataset/bisaya_dataset.csv\"\n"
   ]
  },
  {
   "cell_type": "code",
   "execution_count": null,
   "id": "2cb20f1c-c5ce-4907-a343-91b2d3738da9",
   "metadata": {},
   "outputs": [],
   "source": [
    "# Load dataset\n",
    "df = pd.read_csv(CSV_PATH)\n",
    "df.head()\n"
   ]
  },
  {
   "cell_type": "code",
   "execution_count": null,
   "id": "a8811748-f68a-47cc-806a-063354742ae1",
   "metadata": {},
   "outputs": [],
   "source": [
    "print(f\"Total samples: {len(df)}\")\n",
    "print(\"Categories:\")\n",
    "print(df['category'].value_counts())\n"
   ]
  },
  {
   "cell_type": "code",
   "execution_count": null,
   "id": "d5fbf710-f797-4131-8a4b-efa7044854a3",
   "metadata": {},
   "outputs": [],
   "source": [
    "# Drop category column\n",
    "train_df = df[['path', 'text']]\n",
    "\n",
    "# Preview\n",
    "train_df.head()\n"
   ]
  },
  {
   "cell_type": "code",
   "execution_count": null,
   "id": "911d6799-89de-4bd8-a27a-3c8e1dc4c726",
   "metadata": {},
   "outputs": [],
   "source": [
    "# Save cleaned version\n",
    "clean_csv_path = \"../bisaya-dataset/bisaya_dataset_clean.csv\"\n",
    "train_df.to_csv(clean_csv_path, index=False)\n",
    "print(f\"✅ Cleaned dataset saved to {clean_csv_path}\")\n"
   ]
  },
  {
   "cell_type": "code",
   "execution_count": null,
   "id": "6a259955-6c19-4aa3-a738-82f2b64c41f2",
   "metadata": {},
   "outputs": [],
   "source": [
    "#Plot Category Distribution\n",
    "df['category'].value_counts().plot(kind='bar', color='steelblue')\n",
    "plt.title(\"Sample count per category\")\n",
    "plt.xlabel(\"Category\")\n",
    "plt.ylabel(\"Count\")\n",
    "plt.tight_layout()\n",
    "plt.show()\n"
   ]
  }
 ],
 "metadata": {
  "kernelspec": {
   "display_name": "bisaya-stt-env",
   "language": "python",
   "name": "python3"
  },
  "language_info": {
   "codemirror_mode": {
    "name": "ipython",
    "version": 3
   },
   "file_extension": ".py",
   "mimetype": "text/x-python",
   "name": "python",
   "nbconvert_exporter": "python",
   "pygments_lexer": "ipython3",
   "version": "3.13.2"
  }
 },
 "nbformat": 4,
 "nbformat_minor": 5
}
