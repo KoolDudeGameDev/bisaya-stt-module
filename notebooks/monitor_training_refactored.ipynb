{
 "cells": [
  {
   "cell_type": "markdown",
   "id": "2210265f",
   "metadata": {},
   "source": [
    "## 📦 Imports"
   ]
  },
  {
   "cell_type": "code",
   "execution_count": null,
   "id": "5dd20f1d",
   "metadata": {
    "name": "📦 Imports"
   },
   "outputs": [],
   "source": [
    "from IPython.display import clear_output\n",
    "from IPython.display import clear_output, display\n",
    "from IPython.display import display, Markdown\n",
    "from datasets import load_from_disk\n",
    "from torch.nn.functional import softmax\n",
    "from transformers import Wav2Vec2ForCTC, Wav2Vec2Processor\n",
    "from transformers import Wav2Vec2Processor\n",
    "import matplotlib.pyplot as plt\n",
    "import os\n",
    "import pandas as pd\n",
    "import re\n",
    "import time\n",
    "import torch"
   ]
  },
  {
   "cell_type": "markdown",
   "id": "f20c1564",
   "metadata": {},
   "source": [
    "## 📁 Set Working Directory"
   ]
  },
  {
   "cell_type": "code",
   "execution_count": null,
   "id": "d74db9b5-5f97-4a97-9530-d89dc89b454f",
   "metadata": {},
   "outputs": [
    {
     "ename": "FileNotFoundError",
     "evalue": "[WinError 3] The system cannot find the path specified: 'C:/Users/ibo.kylegregory/bisaya-stt-module'",
     "output_type": "error",
     "traceback": [
      "\u001b[31m---------------------------------------------------------------------------\u001b[39m",
      "\u001b[31mFileNotFoundError\u001b[39m                         Traceback (most recent call last)",
      "\u001b[36mCell\u001b[39m\u001b[36m \u001b[39m\u001b[32mIn[1]\u001b[39m\u001b[32m, line 2\u001b[39m\n\u001b[32m      1\u001b[39m \u001b[38;5;28;01mimport\u001b[39;00m\u001b[38;5;250m \u001b[39m\u001b[34;01mos\u001b[39;00m\n\u001b[32m----> \u001b[39m\u001b[32m2\u001b[39m \u001b[43mos\u001b[49m\u001b[43m.\u001b[49m\u001b[43mchdir\u001b[49m\u001b[43m(\u001b[49m\u001b[33;43m\"\u001b[39;49m\u001b[33;43mC:/Users/ibo.kylegregory/bisaya-stt-module\u001b[39;49m\u001b[33;43m\"\u001b[39;49m\u001b[43m)\u001b[49m\n",
      "\u001b[31mFileNotFoundError\u001b[39m: [WinError 3] The system cannot find the path specified: 'C:/Users/ibo.kylegregory/bisaya-stt-module'"
     ]
    }
   ],
   "source": [
    "os.chdir(\"C:/Users/ibo.kylegregory/bisaya-stt-module\")\n"
   ]
  },
  {
   "cell_type": "markdown",
   "id": "8986a4ea",
   "metadata": {},
   "source": [
    "## 📊 Show Latest WER"
   ]
  },
  {
   "cell_type": "code",
   "execution_count": null,
   "id": "a156ca77-4c11-4dc8-af00-9c7196f7dacd",
   "metadata": {},
   "outputs": [],
   "source": [
    "def show_latest_wer():\n",
    "    if not os.path.exists(metrics_file):\n",
    "        display(Markdown(\"⚠️ `validation_metrics.md` not found yet.\"))\n",
    "        return\n",
    "    with open(metrics_file, \"r\", encoding=\"utf-8\") as f:\n",
    "        lines = f.readlines()\n",
    "        if not lines:\n",
    "            display(Markdown(\"🟡 No WER data yet.\"))\n",
    "            return\n",
    "        display(Markdown(\"### 🧾 Latest WER Metrics\"))\n",
    "        display(Markdown(\"```\\n\" + \"\".join(lines[-5:]) + \"\\n```\"))\n",
    "\n",
    "show_latest_wer()\n"
   ]
  },
  {
   "cell_type": "markdown",
   "id": "6f6f5589",
   "metadata": {},
   "source": [
    "## 📉 Plot Loss"
   ]
  },
  {
   "cell_type": "code",
   "execution_count": null,
   "id": "5873ed12-abcb-4327-938f-0e118edcef36",
   "metadata": {},
   "outputs": [
    {
     "ename": "NameError",
     "evalue": "name 'loss_log' is not defined",
     "output_type": "error",
     "traceback": [
      "\u001b[31m---------------------------------------------------------------------------\u001b[39m",
      "\u001b[31mNameError\u001b[39m                                 Traceback (most recent call last)",
      "\u001b[36mCell\u001b[39m\u001b[36m \u001b[39m\u001b[32mIn[2]\u001b[39m\u001b[32m, line 8\u001b[39m\n\u001b[32m      5\u001b[39m \u001b[38;5;28;01mfrom\u001b[39;00m\u001b[38;5;250m \u001b[39m\u001b[34;01mIPython\u001b[39;00m\u001b[34;01m.\u001b[39;00m\u001b[34;01mdisplay\u001b[39;00m\u001b[38;5;250m \u001b[39m\u001b[38;5;28;01mimport\u001b[39;00m clear_output\n\u001b[32m      6\u001b[39m \u001b[38;5;28;01mimport\u001b[39;00m\u001b[38;5;250m \u001b[39m\u001b[34;01mtime\u001b[39;00m\n\u001b[32m----> \u001b[39m\u001b[32m8\u001b[39m \u001b[38;5;28;01mdef\u001b[39;00m\u001b[38;5;250m \u001b[39m\u001b[34mauto_refresh_plot_loss\u001b[39m(log_path=\u001b[43mloss_log\u001b[49m, refresh_interval=\u001b[32m60\u001b[39m, smoothing_window=\u001b[32m5\u001b[39m):\n\u001b[32m      9\u001b[39m     \u001b[38;5;28mprint\u001b[39m(\u001b[33mf\u001b[39m\u001b[33m\"\u001b[39m\u001b[33m🔄 Auto-refreshing loss plot every \u001b[39m\u001b[38;5;132;01m{\u001b[39;00mrefresh_interval\u001b[38;5;132;01m}\u001b[39;00m\u001b[33ms (Ctrl+C to stop)...\u001b[39m\u001b[33m\"\u001b[39m)\n\u001b[32m     10\u001b[39m     last_modified = \u001b[32m0\u001b[39m\n",
      "\u001b[31mNameError\u001b[39m: name 'loss_log' is not defined"
     ]
    }
   ],
   "source": [
    "# Cell 4.1 — Optional: Smoothing and Auto-refresh Plot\n",
    "\n",
    "def auto_refresh_plot_loss(log_path=loss_log, refresh_interval=60, smoothing_window=5):\n",
    "    print(f\"🔄 Auto-refreshing loss plot every {refresh_interval}s (Ctrl+C to stop)...\")\n",
    "    last_modified = 0\n",
    "\n",
    "    try:\n",
    "        while True:\n",
    "            current_modified = os.path.getmtime(log_path) if os.path.exists(log_path) else 0\n",
    "            if current_modified != last_modified:\n",
    "                clear_output(wait=True)\n",
    "                if os.path.exists(log_path):\n",
    "                    df = pd.read_csv(log_path)\n",
    "                    if not df.empty:\n",
    "                        df[\"smoothed_loss\"] = df[\"loss\"].rolling(smoothing_window).mean()\n",
    "                        plt.figure(figsize=(10, 4))\n",
    "                        plt.plot(df[\"step\"], df[\"loss\"], label=\"Raw Loss\", alpha=0.4)\n",
    "                        plt.plot(df[\"step\"], df[\"smoothed_loss\"], label=f\"Smoothed (window={smoothing_window})\", linewidth=2)\n",
    "                        plt.title(\"📉 Training Loss Over Time\")\n",
    "                        plt.xlabel(\"Training Step\")\n",
    "                        plt.ylabel(\"Loss\")\n",
    "                        plt.legend()\n",
    "                        plt.grid(True)\n",
    "                        plt.show()\n",
    "                    else:\n",
    "                        print(\"🟡 Log file exists but is empty.\")\n",
    "                else:\n",
    "                    print(\"⚠️ Log file not found.\")\n",
    "\n",
    "                last_modified = current_modified\n",
    "            time.sleep(refresh_interval)\n",
    "    except KeyboardInterrupt:\n",
    "        print(\"🛑 Stopped auto-refresh plot.\")\n"
   ]
  },
  {
   "cell_type": "markdown",
   "id": "6cd5946c",
   "metadata": {},
   "source": [
    "## 📌 Training Constants"
   ]
  },
  {
   "cell_type": "code",
   "execution_count": null,
   "id": "7ceeeac0-6057-46fc-9062-b91d9b6925d0",
   "metadata": {},
   "outputs": [],
   "source": [
    "# Auto-refresh WER Display\n",
    "def auto_refresh_wer(md_path=metrics_file, refresh_interval=60):\n",
    "    print(f\"🔄 Auto-refreshing WER every {refresh_interval}s (Ctrl+C to stop)...\")\n",
    "    last_modified = 0\n",
    "\n",
    "    try:\n",
    "        while True:\n",
    "            current_modified = os.path.getmtime(md_path) if os.path.exists(md_path) else 0\n",
    "            if current_modified != last_modified:\n",
    "                clear_output(wait=True)\n",
    "                show_latest_wer()\n",
    "                last_modified = current_modified\n",
    "            time.sleep(refresh_interval)\n",
    "    except KeyboardInterrupt:\n",
    "        print(\"🛑 Stopped auto-refresh WER display.\")\n"
   ]
  },
  {
   "cell_type": "markdown",
   "id": "0ee5563f",
   "metadata": {},
   "source": [
    "## 📡 Monitor Checkpoint Progress"
   ]
  },
  {
   "cell_type": "code",
   "execution_count": null,
   "id": "d175ea53-54d1-4161-9a45-2aff4c66adcd",
   "metadata": {},
   "outputs": [],
   "source": [
    "auto_refresh_plot_loss(refresh_interval=60)\n",
    "\n",
    "auto_refresh_wer(refresh_interval=60)\n"
   ]
  },
  {
   "cell_type": "code",
   "execution_count": null,
   "id": "65c21da5-71a1-4cc2-a3b4-f5a87153133d",
   "metadata": {},
   "outputs": [],
   "source": [
    "TRAIN_SIZE = 3080  # adjust based on your dataset['train'] count\n",
    "BATCH_SIZE = 1\n",
    "GRAD_ACCUM = 4\n",
    "\n",
    "STEPS_PER_EPOCH = (TRAIN_SIZE + (BATCH_SIZE * GRAD_ACCUM) - 1) // (BATCH_SIZE * GRAD_ACCUM)\n"
   ]
  },
  {
   "cell_type": "markdown",
   "id": "27eaead1",
   "metadata": {},
   "source": [
    "## 🧠 Load and Inspect Sample"
   ]
  },
  {
   "cell_type": "code",
   "execution_count": null,
   "id": "04ec90bc-e836-4955-97fd-32841d5cc09d",
   "metadata": {},
   "outputs": [],
   "source": [
    "\n",
    "CHECKPOINT_DIR = \"models/wav2vec2/v1_bisaya\"\n",
    "POLL_INTERVAL = 60  # in seconds\n",
    "\n",
    "def get_latest_checkpoint(path=CHECKPOINT_DIR):\n",
    "    if not os.path.exists(path):\n",
    "        return None\n",
    "\n",
    "    checkpoint_steps = []\n",
    "    for d in os.listdir(path):\n",
    "        match = re.match(r\"checkpoint-(\\d+)\", d)\n",
    "        if match:\n",
    "            checkpoint_steps.append(int(match.group(1)))\n",
    "    return max(checkpoint_steps) if checkpoint_steps else None\n"
   ]
  },
  {
   "cell_type": "markdown",
   "id": "9678ed9d",
   "metadata": {},
   "source": [
    "## 🤖 Predict and Decode Sample"
   ]
  },
  {
   "cell_type": "code",
   "execution_count": null,
   "id": "626a21d4-2780-4e71-b0c4-2ea0c6e3c51b",
   "metadata": {},
   "outputs": [],
   "source": [
    "def monitor_training_progress(interval=POLL_INTERVAL, patience_minutes=10):\n",
    "    print(\"📡 Monitoring training progress...\")\n",
    "    history = []\n",
    "    last_step = None\n",
    "    stagnant_counter = 0\n",
    "    max_stagnant_checks = patience_minutes * 60 // interval\n",
    "\n",
    "    while True:\n",
    "        clear_output(wait=True)\n",
    "        current_step = get_latest_checkpoint()\n",
    "\n",
    "        if current_step is None:\n",
    "            print(\"❌ No checkpoints found.\")\n",
    "        else:\n",
    "            timestamp = time.strftime('%Y-%m-%d %H:%M:%S')\n",
    "            estimated_epoch = current_step / STEPS_PER_EPOCH\n",
    "            print(f\"[{timestamp}] ✅ Checkpoint step: {current_step}\")\n",
    "            print(f\"📊 Estimated epoch: {estimated_epoch:.2f}\")\n",
    "            history.append((timestamp, current_step, estimated_epoch))\n",
    "\n",
    "            if last_step == current_step:\n",
    "                stagnant_counter += 1\n",
    "                print(f\"⚠️ No new checkpoints. Stagnant for {stagnant_counter * interval} seconds.\")\n",
    "                if stagnant_counter >= max_stagnant_checks:\n",
    "                    print(\"🚨 Training may have stopped. No progress detected.\")\n",
    "                    break\n",
    "            else:\n",
    "                stagnant_counter = 0\n",
    "\n",
    "            last_step = current_step\n",
    "\n",
    "        time.sleep(interval)\n"
   ]
  },
  {
   "cell_type": "markdown",
   "id": "7afa9b76",
   "metadata": {},
   "source": [
    "## 🔡 Inspect Tokenizer"
   ]
  },
  {
   "cell_type": "code",
   "execution_count": null,
   "id": "83b6d2a3-949b-47ab-8c01-1815bcd33bd8",
   "metadata": {},
   "outputs": [],
   "source": [
    "monitor_training_progress(interval=300, patience_minutes=10)\n"
   ]
  },
  {
   "cell_type": "markdown",
   "id": "b5cfb3bf",
   "metadata": {},
   "source": [
    "## 🧪 Simulate Trainer Prediction"
   ]
  },
  {
   "cell_type": "code",
   "execution_count": null,
   "id": "676ff184-92e2-4cc0-b534-c677f74674f1",
   "metadata": {
    "scrolled": true
   },
   "outputs": [],
   "source": [
    "\n",
    "# Constants\n",
    "DATASET_VERSION = \"v1_training_ready_grapheme\"\n",
    "PROCESSOR_VERSION = \"v1_grapheme\"\n",
    "MAX_INPUT_LENGTH_SEC = 15\n",
    "\n",
    "# === Load your processor ===\n",
    "processor = Wav2Vec2Processor.from_pretrained(\n",
    "    r\"C:\\Users\\ibo.kylegregory\\bisaya-stt-module\\processor\\v1_grapheme\",\n",
    "    local_files_only=True\n",
    ")\n",
    "\n",
    "# === Load dataset ===\n",
    "raw_dataset = load_from_disk(r\"C:\\Users\\ibo.kylegregory\\bisaya-stt-module\\data\\processed\\v1_training_ready_grapheme\")\n",
    "max_len = int(processor.feature_extractor.sampling_rate * MAX_INPUT_LENGTH_SEC)\n",
    "filtered_dataset = raw_dataset.filter(lambda x: len(x[\"input_values\"]) <= max_len)\n",
    "dataset = filtered_dataset[\"train\"].train_test_split(test_size=0.1)\n",
    "\n",
    "# === Sample: Inspect a label sequence ===\n",
    "sample = dataset[\"test\"][0]  # or adjust index\n",
    "label_ids = sample[\"labels\"]\n",
    "\n",
    "# === Convert label IDs to tokens ===\n",
    "tokens = processor.tokenizer.convert_ids_to_tokens(label_ids)\n",
    "decoded_text = processor.tokenizer.decode(label_ids, skip_special_tokens=True)\n",
    "\n",
    "print(\"🔢 Label IDs:\", label_ids)\n",
    "print(\"🔡 Tokens:\", tokens)\n",
    "print(\"📝 Decoded Text:\", decoded_text)\n"
   ]
  },
  {
   "cell_type": "markdown",
   "id": "b6074df3",
   "metadata": {},
   "source": [
    "## 🌀 Auto-Refresh: WER"
   ]
  },
  {
   "cell_type": "code",
   "execution_count": null,
   "id": "789c780b",
   "metadata": {},
   "outputs": [],
   "source": [
    "\n",
    "# 🔄 Auto-refresh WER Display\n",
    "def auto_refresh_wer(md_path=metrics_file, refresh_interval=60):\n",
    "    print(f\"🔄 Auto-refreshing WER every {refresh_interval}s (Ctrl+C to stop)...\")\n",
    "    last_modified = 0\n",
    "\n",
    "    try:\n",
    "        while True:\n",
    "            current_modified = os.path.getmtime(md_path) if os.path.exists(md_path) else 0\n",
    "            if current_modified != last_modified:\n",
    "                clear_output(wait=True)\n",
    "                show_latest_wer()\n",
    "                last_modified = current_modified\n",
    "            time.sleep(refresh_interval)\n",
    "    except KeyboardInterrupt:\n",
    "        print(\"🛑 Stopped auto-refresh WER display.\")\n"
   ]
  },
  {
   "cell_type": "markdown",
   "id": "9dfcee44",
   "metadata": {},
   "source": [
    "## 🌀 Auto-Refresh: Loss"
   ]
  },
  {
   "cell_type": "code",
   "execution_count": null,
   "id": "076367d3",
   "metadata": {},
   "outputs": [],
   "source": [
    "\n",
    "# 🔄 Auto-refresh Loss Plot\n",
    "def auto_refresh_plot_loss(log_path=loss_log, refresh_interval=60, smoothing_window=5):\n",
    "    print(f\"🔄 Auto-refreshing loss plot every {refresh_interval}s (Ctrl+C to stop)...\")\n",
    "    last_modified = 0\n",
    "\n",
    "    try:\n",
    "        while True:\n",
    "            current_modified = os.path.getmtime(log_path) if os.path.exists(log_path) else 0\n",
    "            if current_modified != last_modified:\n",
    "                clear_output(wait=True)\n",
    "                if os.path.exists(log_path):\n",
    "                    df = pd.read_csv(log_path)\n",
    "                    if not df.empty:\n",
    "                        df[\"smoothed_loss\"] = df[\"loss\"].rolling(smoothing_window).mean()\n",
    "                        plt.figure(figsize=(10, 4))\n",
    "                        plt.plot(df[\"step\"], df[\"loss\"], label=\"Raw Loss\", alpha=0.4)\n",
    "                        plt.plot(df[\"step\"], df[\"smoothed_loss\"], label=f\"Smoothed (window={smoothing_window})\", linewidth=2)\n",
    "                        plt.title(\"📉 Training Loss Over Time\")\n",
    "                        plt.xlabel(\"Training Step\")\n",
    "                        plt.ylabel(\"Loss\")\n",
    "                        plt.legend()\n",
    "                        plt.grid(True)\n",
    "                        plt.show()\n",
    "                    else:\n",
    "                        print(\"🟡 Log file exists but is empty.\")\n",
    "                else:\n",
    "                    print(\"⚠️ Log file not found.\")\n",
    "                last_modified = current_modified\n",
    "            time.sleep(refresh_interval)\n",
    "    except KeyboardInterrupt:\n",
    "        print(\"🛑 Stopped auto-refresh plot.\")\n"
   ]
  }
 ],
 "metadata": {
  "kernelspec": {
   "display_name": "Python 3 (ipykernel)",
   "language": "python",
   "name": "python3"
  },
  "language_info": {
   "codemirror_mode": {
    "name": "ipython",
    "version": 3
   },
   "file_extension": ".py",
   "mimetype": "text/x-python",
   "name": "python",
   "nbconvert_exporter": "python",
   "pygments_lexer": "ipython3",
   "version": "3.11.9"
  }
 },
 "nbformat": 4,
 "nbformat_minor": 5
}
